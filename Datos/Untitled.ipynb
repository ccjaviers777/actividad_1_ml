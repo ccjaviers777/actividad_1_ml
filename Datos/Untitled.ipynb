{
 "cells": [
  {
   "cell_type": "markdown",
   "id": "63bf1f58-d328-4e98-ab72-7b819c752b86",
   "metadata": {},
   "source": [
    "# prueba"
   ]
  }
 ],
 "metadata": {
  "kernelspec": {
   "display_name": "ml2024",
   "language": "python",
   "name": "ml2024"
  },
  "language_info": {
   "codemirror_mode": {
    "name": "ipython",
    "version": 3
   },
   "file_extension": ".py",
   "mimetype": "text/x-python",
   "name": "python",
   "nbconvert_exporter": "python",
   "pygments_lexer": "ipython3",
   "version": "3.12.7"
  }
 },
 "nbformat": 4,
 "nbformat_minor": 5
}
