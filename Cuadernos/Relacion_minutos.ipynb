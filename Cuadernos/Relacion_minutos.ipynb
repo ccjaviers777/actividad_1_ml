{
 "cells": [
  {
   "cell_type": "markdown",
   "metadata": {},
   "source": [
    "#Proyecto 1 - Relacion Minutos Ingresos"
   ]
  }
 ],
 "metadata": {
  "language_info": {
   "name": "python"
  }
 },
 "nbformat": 4,
 "nbformat_minor": 2
}
