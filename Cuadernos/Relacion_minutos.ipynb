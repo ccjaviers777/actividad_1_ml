{
 "cells": [
  {
   "cell_type": "markdown",
   "metadata": {},
   "source": [
    "#Proyecto 1 - Relacion Minutos Ingresos"
   ]
  },
  {
   "cell_type": "code",
   "execution_count": 10,
   "metadata": {},
   "outputs": [],
   "source": [
    "import pandas as pd"
   ]
  },
  {
   "cell_type": "code",
   "execution_count": 12,
   "metadata": {},
   "outputs": [],
   "source": [
    "DF=pd.read_csv('../Datos/Credito_dias.csv')"
   ]
  },
  {
   "cell_type": "code",
   "execution_count": 16,
   "metadata": {},
   "outputs": [
    {
     "data": {
      "text/plain": [
       "<bound method NDFrame.head of        totmou   totrev creditcd  eqpdays  Customer_ID\n",
       "0      7269.0   906.58        Y      371      1082423\n",
       "1     13552.0  1172.25        N       83      1069232\n",
       "2      4152.0   577.39        Y      675      1031705\n",
       "3      1863.0   294.26        Y      218      1089806\n",
       "4      4155.0   433.16        N      222      1076695\n",
       "...       ...      ...      ...      ...          ...\n",
       "9995   2570.0   484.31        Y      611      1027614\n",
       "9996   2105.0   583.36        Y     1243      1098422\n",
       "9997   3690.0   294.29        Y      212      1096497\n",
       "9998   3333.0   233.08        Y      290      1087248\n",
       "9999   5025.0  1436.49        Y     1029      1099003\n",
       "\n",
       "[10000 rows x 5 columns]>"
      ]
     },
     "execution_count": 16,
     "metadata": {},
     "output_type": "execute_result"
    }
   ],
   "source": [
    "DF.head"
   ]
  }
 ],
 "metadata": {
  "kernelspec": {
   "display_name": "ml2024",
   "language": "python",
   "name": "ml2024"
  },
  "language_info": {
   "codemirror_mode": {
    "name": "ipython",
    "version": 3
   },
   "file_extension": ".py",
   "mimetype": "text/x-python",
   "name": "python",
   "nbconvert_exporter": "python",
   "pygments_lexer": "ipython3",
   "version": "3.12.7"
  }
 },
 "nbformat": 4,
 "nbformat_minor": 4
}
