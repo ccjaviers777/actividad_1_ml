{
 "cells": [
  {
   "cell_type": "markdown",
   "metadata": {},
   "source": [
    "#Proyecto 1 - Relacion Minutos Ingresos"
   ]
  },
  {
   "cell_type": "code",
   "execution_count": 55,
   "metadata": {},
   "outputs": [],
   "source": [
    "import pandas as pd"
   ]
  },
  {
   "cell_type": "code",
   "execution_count": 146,
   "metadata": {},
   "outputs": [],
   "source": [
    "#DF=pd.read_csv('../Datos/Credito_dias.csv')\n",
    "df=pd.read_csv('../Datos/Credito_dias.csv',index_col=\"Customer_ID\")"
   ]
  },
  {
   "cell_type": "code",
   "execution_count": 148,
   "metadata": {},
   "outputs": [
    {
     "data": {
      "text/html": [
       "<div>\n",
       "<style scoped>\n",
       "    .dataframe tbody tr th:only-of-type {\n",
       "        vertical-align: middle;\n",
       "    }\n",
       "\n",
       "    .dataframe tbody tr th {\n",
       "        vertical-align: top;\n",
       "    }\n",
       "\n",
       "    .dataframe thead th {\n",
       "        text-align: right;\n",
       "    }\n",
       "</style>\n",
       "<table border=\"1\" class=\"dataframe\">\n",
       "  <thead>\n",
       "    <tr style=\"text-align: right;\">\n",
       "      <th></th>\n",
       "      <th>totmou</th>\n",
       "      <th>totrev</th>\n",
       "      <th>creditcd</th>\n",
       "      <th>eqpdays</th>\n",
       "    </tr>\n",
       "    <tr>\n",
       "      <th>Customer_ID</th>\n",
       "      <th></th>\n",
       "      <th></th>\n",
       "      <th></th>\n",
       "      <th></th>\n",
       "    </tr>\n",
       "  </thead>\n",
       "  <tbody>\n",
       "    <tr>\n",
       "      <th>1082423</th>\n",
       "      <td>7269.0</td>\n",
       "      <td>906.58</td>\n",
       "      <td>Y</td>\n",
       "      <td>371</td>\n",
       "    </tr>\n",
       "    <tr>\n",
       "      <th>1069232</th>\n",
       "      <td>13552.0</td>\n",
       "      <td>1172.25</td>\n",
       "      <td>N</td>\n",
       "      <td>83</td>\n",
       "    </tr>\n",
       "    <tr>\n",
       "      <th>1031705</th>\n",
       "      <td>4152.0</td>\n",
       "      <td>577.39</td>\n",
       "      <td>Y</td>\n",
       "      <td>675</td>\n",
       "    </tr>\n",
       "    <tr>\n",
       "      <th>1089806</th>\n",
       "      <td>1863.0</td>\n",
       "      <td>294.26</td>\n",
       "      <td>Y</td>\n",
       "      <td>218</td>\n",
       "    </tr>\n",
       "    <tr>\n",
       "      <th>1076695</th>\n",
       "      <td>4155.0</td>\n",
       "      <td>433.16</td>\n",
       "      <td>N</td>\n",
       "      <td>222</td>\n",
       "    </tr>\n",
       "    <tr>\n",
       "      <th>1091652</th>\n",
       "      <td>5441.0</td>\n",
       "      <td>578.80</td>\n",
       "      <td>Y</td>\n",
       "      <td>68</td>\n",
       "    </tr>\n",
       "    <tr>\n",
       "      <th>1043846</th>\n",
       "      <td>7294.0</td>\n",
       "      <td>1495.18</td>\n",
       "      <td>Y</td>\n",
       "      <td>460</td>\n",
       "    </tr>\n",
       "    <tr>\n",
       "      <th>1088967</th>\n",
       "      <td>4395.0</td>\n",
       "      <td>668.23</td>\n",
       "      <td>N</td>\n",
       "      <td>333</td>\n",
       "    </tr>\n",
       "    <tr>\n",
       "      <th>1045239</th>\n",
       "      <td>11544.0</td>\n",
       "      <td>1012.64</td>\n",
       "      <td>Y</td>\n",
       "      <td>498</td>\n",
       "    </tr>\n",
       "    <tr>\n",
       "      <th>1046584</th>\n",
       "      <td>3751.0</td>\n",
       "      <td>1199.89</td>\n",
       "      <td>Y</td>\n",
       "      <td>592</td>\n",
       "    </tr>\n",
       "  </tbody>\n",
       "</table>\n",
       "</div>"
      ],
      "text/plain": [
       "              totmou   totrev creditcd  eqpdays\n",
       "Customer_ID                                    \n",
       "1082423       7269.0   906.58        Y      371\n",
       "1069232      13552.0  1172.25        N       83\n",
       "1031705       4152.0   577.39        Y      675\n",
       "1089806       1863.0   294.26        Y      218\n",
       "1076695       4155.0   433.16        N      222\n",
       "1091652       5441.0   578.80        Y       68\n",
       "1043846       7294.0  1495.18        Y      460\n",
       "1088967       4395.0   668.23        N      333\n",
       "1045239      11544.0  1012.64        Y      498\n",
       "1046584       3751.0  1199.89        Y      592"
      ]
     },
     "execution_count": 148,
     "metadata": {},
     "output_type": "execute_result"
    }
   ],
   "source": [
    "df.head(10)"
   ]
  },
  {
   "cell_type": "markdown",
   "metadata": {},
   "source": [
    "# Variables\n",
    "1. totrev: Ingresos del cliente.\n",
    "2. totmou: Total de minutos usados por el cliente.\n",
    "3. creditcd: Indicador de tarjeta de crédito.\n",
    "4. eqpdays: Número de días (antigüedad) del equipo actual."
   ]
  },
  {
   "cell_type": "code",
   "execution_count": 69,
   "metadata": {},
   "outputs": [
    {
     "data": {
      "text/html": [
       "<div>\n",
       "<style scoped>\n",
       "    .dataframe tbody tr th:only-of-type {\n",
       "        vertical-align: middle;\n",
       "    }\n",
       "\n",
       "    .dataframe tbody tr th {\n",
       "        vertical-align: top;\n",
       "    }\n",
       "\n",
       "    .dataframe thead th {\n",
       "        text-align: right;\n",
       "    }\n",
       "</style>\n",
       "<table border=\"1\" class=\"dataframe\">\n",
       "  <thead>\n",
       "    <tr style=\"text-align: right;\">\n",
       "      <th></th>\n",
       "      <th>totmou</th>\n",
       "      <th>totrev</th>\n",
       "      <th>creditcd</th>\n",
       "      <th>eqpdays</th>\n",
       "    </tr>\n",
       "    <tr>\n",
       "      <th>Customer_ID</th>\n",
       "      <th></th>\n",
       "      <th></th>\n",
       "      <th></th>\n",
       "      <th></th>\n",
       "    </tr>\n",
       "  </thead>\n",
       "  <tbody>\n",
       "    <tr>\n",
       "      <th>1027614</th>\n",
       "      <td>2570.0</td>\n",
       "      <td>484.31</td>\n",
       "      <td>Y</td>\n",
       "      <td>611</td>\n",
       "    </tr>\n",
       "    <tr>\n",
       "      <th>1098422</th>\n",
       "      <td>2105.0</td>\n",
       "      <td>583.36</td>\n",
       "      <td>Y</td>\n",
       "      <td>1243</td>\n",
       "    </tr>\n",
       "    <tr>\n",
       "      <th>1096497</th>\n",
       "      <td>3690.0</td>\n",
       "      <td>294.29</td>\n",
       "      <td>Y</td>\n",
       "      <td>212</td>\n",
       "    </tr>\n",
       "    <tr>\n",
       "      <th>1087248</th>\n",
       "      <td>3333.0</td>\n",
       "      <td>233.08</td>\n",
       "      <td>Y</td>\n",
       "      <td>290</td>\n",
       "    </tr>\n",
       "    <tr>\n",
       "      <th>1099003</th>\n",
       "      <td>5025.0</td>\n",
       "      <td>1436.49</td>\n",
       "      <td>Y</td>\n",
       "      <td>1029</td>\n",
       "    </tr>\n",
       "  </tbody>\n",
       "</table>\n",
       "</div>"
      ],
      "text/plain": [
       "             totmou   totrev creditcd  eqpdays\n",
       "Customer_ID                                   \n",
       "1027614      2570.0   484.31        Y      611\n",
       "1098422      2105.0   583.36        Y     1243\n",
       "1096497      3690.0   294.29        Y      212\n",
       "1087248      3333.0   233.08        Y      290\n",
       "1099003      5025.0  1436.49        Y     1029"
      ]
     },
     "execution_count": 69,
     "metadata": {},
     "output_type": "execute_result"
    }
   ],
   "source": [
    "df.tail(5)  # imprime los últimos n registros del DataFrame "
   ]
  },
  {
   "cell_type": "code",
   "execution_count": 71,
   "metadata": {},
   "outputs": [
    {
     "data": {
      "text/plain": [
       "(10000, 4)"
      ]
     },
     "execution_count": 71,
     "metadata": {},
     "output_type": "execute_result"
    }
   ],
   "source": [
    "df.shape    # imprime el numero de columnas y filas del DataFrame"
   ]
  },
  {
   "cell_type": "code",
   "execution_count": 73,
   "metadata": {},
   "outputs": [
    {
     "data": {
      "text/plain": [
       "Index(['totmou', 'totrev', 'creditcd', 'eqpdays'], dtype='object')"
      ]
     },
     "execution_count": 73,
     "metadata": {},
     "output_type": "execute_result"
    }
   ],
   "source": [
    "df.columns  # imprime el nombre de las columnas del DataFrame"
   ]
  },
  {
   "cell_type": "code",
   "execution_count": 75,
   "metadata": {},
   "outputs": [
    {
     "data": {
      "text/plain": [
       "Index([1082423, 1069232, 1031705, 1089806, 1076695, 1091652, 1043846, 1088967,\n",
       "       1045239, 1046584,\n",
       "       ...\n",
       "       1087145, 1002540, 1044082, 1083458, 1093976, 1027614, 1098422, 1096497,\n",
       "       1087248, 1099003],\n",
       "      dtype='int64', name='Customer_ID', length=10000)"
      ]
     },
     "execution_count": 75,
     "metadata": {},
     "output_type": "execute_result"
    }
   ],
   "source": [
    "df.index    # imprime el indice de los registros del DataFrame"
   ]
  },
  {
   "cell_type": "code",
   "execution_count": 77,
   "metadata": {},
   "outputs": [
    {
     "data": {
      "text/plain": [
       "totmou      float64\n",
       "totrev      float64\n",
       "creditcd     object\n",
       "eqpdays       int64\n",
       "dtype: object"
      ]
     },
     "execution_count": 77,
     "metadata": {},
     "output_type": "execute_result"
    }
   ],
   "source": [
    "df.dtypes   # imprime el tipo de cada una de las columnnas del DataFrame"
   ]
  },
  {
   "cell_type": "code",
   "execution_count": 79,
   "metadata": {},
   "outputs": [
    {
     "data": {
      "text/html": [
       "<div>\n",
       "<style scoped>\n",
       "    .dataframe tbody tr th:only-of-type {\n",
       "        vertical-align: middle;\n",
       "    }\n",
       "\n",
       "    .dataframe tbody tr th {\n",
       "        vertical-align: top;\n",
       "    }\n",
       "\n",
       "    .dataframe thead th {\n",
       "        text-align: right;\n",
       "    }\n",
       "</style>\n",
       "<table border=\"1\" class=\"dataframe\">\n",
       "  <thead>\n",
       "    <tr style=\"text-align: right;\">\n",
       "      <th></th>\n",
       "      <th>totmou</th>\n",
       "      <th>totrev</th>\n",
       "      <th>creditcd</th>\n",
       "      <th>eqpdays</th>\n",
       "    </tr>\n",
       "    <tr>\n",
       "      <th>Customer_ID</th>\n",
       "      <th></th>\n",
       "      <th></th>\n",
       "      <th></th>\n",
       "      <th></th>\n",
       "    </tr>\n",
       "  </thead>\n",
       "  <tbody>\n",
       "    <tr>\n",
       "      <th>1040972</th>\n",
       "      <td>26813.0</td>\n",
       "      <td>2615.33</td>\n",
       "      <td>N</td>\n",
       "      <td>263</td>\n",
       "    </tr>\n",
       "    <tr>\n",
       "      <th>1072533</th>\n",
       "      <td>4799.0</td>\n",
       "      <td>601.14</td>\n",
       "      <td>Y</td>\n",
       "      <td>350</td>\n",
       "    </tr>\n",
       "    <tr>\n",
       "      <th>1010166</th>\n",
       "      <td>1048.0</td>\n",
       "      <td>2054.80</td>\n",
       "      <td>NaN</td>\n",
       "      <td>975</td>\n",
       "    </tr>\n",
       "    <tr>\n",
       "      <th>1022834</th>\n",
       "      <td>24479.0</td>\n",
       "      <td>2551.83</td>\n",
       "      <td>Y</td>\n",
       "      <td>184</td>\n",
       "    </tr>\n",
       "    <tr>\n",
       "      <th>1015791</th>\n",
       "      <td>1963.0</td>\n",
       "      <td>899.67</td>\n",
       "      <td>Y</td>\n",
       "      <td>795</td>\n",
       "    </tr>\n",
       "    <tr>\n",
       "      <th>1039039</th>\n",
       "      <td>4001.0</td>\n",
       "      <td>619.76</td>\n",
       "      <td>Y</td>\n",
       "      <td>280</td>\n",
       "    </tr>\n",
       "    <tr>\n",
       "      <th>1039021</th>\n",
       "      <td>2654.0</td>\n",
       "      <td>886.63</td>\n",
       "      <td>Y</td>\n",
       "      <td>666</td>\n",
       "    </tr>\n",
       "    <tr>\n",
       "      <th>1005797</th>\n",
       "      <td>9441.0</td>\n",
       "      <td>1412.95</td>\n",
       "      <td>N</td>\n",
       "      <td>379</td>\n",
       "    </tr>\n",
       "    <tr>\n",
       "      <th>1080604</th>\n",
       "      <td>2050.0</td>\n",
       "      <td>265.50</td>\n",
       "      <td>Y</td>\n",
       "      <td>11</td>\n",
       "    </tr>\n",
       "    <tr>\n",
       "      <th>1078528</th>\n",
       "      <td>5684.0</td>\n",
       "      <td>866.70</td>\n",
       "      <td>Y</td>\n",
       "      <td>322</td>\n",
       "    </tr>\n",
       "  </tbody>\n",
       "</table>\n",
       "</div>"
      ],
      "text/plain": [
       "              totmou   totrev creditcd  eqpdays\n",
       "Customer_ID                                    \n",
       "1040972      26813.0  2615.33        N      263\n",
       "1072533       4799.0   601.14        Y      350\n",
       "1010166       1048.0  2054.80      NaN      975\n",
       "1022834      24479.0  2551.83        Y      184\n",
       "1015791       1963.0   899.67        Y      795\n",
       "1039039       4001.0   619.76        Y      280\n",
       "1039021       2654.0   886.63        Y      666\n",
       "1005797       9441.0  1412.95        N      379\n",
       "1080604       2050.0   265.50        Y       11\n",
       "1078528       5684.0   866.70        Y      322"
      ]
     },
     "execution_count": 79,
     "metadata": {},
     "output_type": "execute_result"
    }
   ],
   "source": [
    "df.sample(10)# imprime una muestra aleatoria de n registros en el DataFrame"
   ]
  },
  {
   "cell_type": "code",
   "execution_count": 81,
   "metadata": {},
   "outputs": [
    {
     "name": "stdout",
     "output_type": "stream",
     "text": [
      "<class 'pandas.core.frame.DataFrame'>\n",
      "Index: 10000 entries, 1082423 to 1099003\n",
      "Data columns (total 4 columns):\n",
      " #   Column    Non-Null Count  Dtype  \n",
      "---  ------    --------------  -----  \n",
      " 0   totmou    10000 non-null  float64\n",
      " 1   totrev    10000 non-null  float64\n",
      " 2   creditcd  9848 non-null   object \n",
      " 3   eqpdays   10000 non-null  int64  \n",
      "dtypes: float64(2), int64(1), object(1)\n",
      "memory usage: 390.6+ KB\n"
     ]
    }
   ],
   "source": [
    "df.info()"
   ]
  },
  {
   "cell_type": "code",
   "execution_count": 84,
   "metadata": {},
   "outputs": [
    {
     "data": {
      "text/plain": [
       "Customer_ID\n",
       "1082423     7269.0\n",
       "1069232    13552.0\n",
       "1031705     4152.0\n",
       "1089806     1863.0\n",
       "1076695     4155.0\n",
       "            ...   \n",
       "1027614     2570.0\n",
       "1098422     2105.0\n",
       "1096497     3690.0\n",
       "1087248     3333.0\n",
       "1099003     5025.0\n",
       "Name: totmou, Length: 10000, dtype: float64"
      ]
     },
     "execution_count": 84,
     "metadata": {},
     "output_type": "execute_result"
    }
   ],
   "source": [
    "df['totmou']"
   ]
  },
  {
   "cell_type": "code",
   "execution_count": 86,
   "metadata": {},
   "outputs": [
    {
     "data": {
      "text/plain": [
       "np.float64(7692.8048656727005)"
      ]
     },
     "execution_count": 86,
     "metadata": {},
     "output_type": "execute_result"
    }
   ],
   "source": [
    "df['totmou'].mean()"
   ]
  },
  {
   "cell_type": "code",
   "execution_count": 156,
   "metadata": {},
   "outputs": [
    {
     "data": {
      "text/html": [
       "<div>\n",
       "<style scoped>\n",
       "    .dataframe tbody tr th:only-of-type {\n",
       "        vertical-align: middle;\n",
       "    }\n",
       "\n",
       "    .dataframe tbody tr th {\n",
       "        vertical-align: top;\n",
       "    }\n",
       "\n",
       "    .dataframe thead th {\n",
       "        text-align: right;\n",
       "    }\n",
       "</style>\n",
       "<table border=\"1\" class=\"dataframe\">\n",
       "  <thead>\n",
       "    <tr style=\"text-align: right;\">\n",
       "      <th></th>\n",
       "      <th>totmou</th>\n",
       "      <th>totrev</th>\n",
       "      <th>creditcd</th>\n",
       "      <th>eqpdays</th>\n",
       "    </tr>\n",
       "  </thead>\n",
       "  <tbody>\n",
       "    <tr>\n",
       "      <th>count</th>\n",
       "      <td>10000.000000</td>\n",
       "      <td>10000.000000</td>\n",
       "      <td>9848</td>\n",
       "      <td>10000.000000</td>\n",
       "    </tr>\n",
       "    <tr>\n",
       "      <th>unique</th>\n",
       "      <td>NaN</td>\n",
       "      <td>NaN</td>\n",
       "      <td>2</td>\n",
       "      <td>NaN</td>\n",
       "    </tr>\n",
       "    <tr>\n",
       "      <th>top</th>\n",
       "      <td>NaN</td>\n",
       "      <td>NaN</td>\n",
       "      <td>Y</td>\n",
       "      <td>NaN</td>\n",
       "    </tr>\n",
       "    <tr>\n",
       "      <th>freq</th>\n",
       "      <td>NaN</td>\n",
       "      <td>NaN</td>\n",
       "      <td>6796</td>\n",
       "      <td>NaN</td>\n",
       "    </tr>\n",
       "    <tr>\n",
       "      <th>mean</th>\n",
       "      <td>7692.804866</td>\n",
       "      <td>1042.133807</td>\n",
       "      <td>NaN</td>\n",
       "      <td>386.794500</td>\n",
       "    </tr>\n",
       "    <tr>\n",
       "      <th>std</th>\n",
       "      <td>8657.917883</td>\n",
       "      <td>857.144895</td>\n",
       "      <td>NaN</td>\n",
       "      <td>252.720196</td>\n",
       "    </tr>\n",
       "    <tr>\n",
       "      <th>min</th>\n",
       "      <td>0.000000</td>\n",
       "      <td>11.100000</td>\n",
       "      <td>NaN</td>\n",
       "      <td>-5.000000</td>\n",
       "    </tr>\n",
       "    <tr>\n",
       "      <th>25%</th>\n",
       "      <td>2576.000000</td>\n",
       "      <td>526.787500</td>\n",
       "      <td>NaN</td>\n",
       "      <td>210.000000</td>\n",
       "    </tr>\n",
       "    <tr>\n",
       "      <th>50%</th>\n",
       "      <td>5262.000000</td>\n",
       "      <td>820.235000</td>\n",
       "      <td>NaN</td>\n",
       "      <td>338.000000</td>\n",
       "    </tr>\n",
       "    <tr>\n",
       "      <th>75%</th>\n",
       "      <td>9823.250000</td>\n",
       "      <td>1272.975000</td>\n",
       "      <td>NaN</td>\n",
       "      <td>522.000000</td>\n",
       "    </tr>\n",
       "    <tr>\n",
       "      <th>max</th>\n",
       "      <td>163264.176700</td>\n",
       "      <td>13426.600000</td>\n",
       "      <td>NaN</td>\n",
       "      <td>1823.000000</td>\n",
       "    </tr>\n",
       "  </tbody>\n",
       "</table>\n",
       "</div>"
      ],
      "text/plain": [
       "               totmou        totrev creditcd       eqpdays\n",
       "count    10000.000000  10000.000000     9848  10000.000000\n",
       "unique            NaN           NaN        2           NaN\n",
       "top               NaN           NaN        Y           NaN\n",
       "freq              NaN           NaN     6796           NaN\n",
       "mean      7692.804866   1042.133807      NaN    386.794500\n",
       "std       8657.917883    857.144895      NaN    252.720196\n",
       "min          0.000000     11.100000      NaN     -5.000000\n",
       "25%       2576.000000    526.787500      NaN    210.000000\n",
       "50%       5262.000000    820.235000      NaN    338.000000\n",
       "75%       9823.250000   1272.975000      NaN    522.000000\n",
       "max     163264.176700  13426.600000      NaN   1823.000000"
      ]
     },
     "execution_count": 156,
     "metadata": {},
     "output_type": "execute_result"
    }
   ],
   "source": [
    "df.describe(include='all')"
   ]
  },
  {
   "cell_type": "code",
   "execution_count": 154,
   "metadata": {},
   "outputs": [
    {
     "data": {
      "text/plain": [
       "'primeros 3 registros'"
      ]
     },
     "metadata": {},
     "output_type": "display_data"
    },
    {
     "data": {
      "text/html": [
       "<div>\n",
       "<style scoped>\n",
       "    .dataframe tbody tr th:only-of-type {\n",
       "        vertical-align: middle;\n",
       "    }\n",
       "\n",
       "    .dataframe tbody tr th {\n",
       "        vertical-align: top;\n",
       "    }\n",
       "\n",
       "    .dataframe thead th {\n",
       "        text-align: right;\n",
       "    }\n",
       "</style>\n",
       "<table border=\"1\" class=\"dataframe\">\n",
       "  <thead>\n",
       "    <tr style=\"text-align: right;\">\n",
       "      <th></th>\n",
       "      <th>totmou</th>\n",
       "      <th>totrev</th>\n",
       "      <th>creditcd</th>\n",
       "      <th>eqpdays</th>\n",
       "    </tr>\n",
       "    <tr>\n",
       "      <th>Customer_ID</th>\n",
       "      <th></th>\n",
       "      <th></th>\n",
       "      <th></th>\n",
       "      <th></th>\n",
       "    </tr>\n",
       "  </thead>\n",
       "  <tbody>\n",
       "    <tr>\n",
       "      <th>1082423</th>\n",
       "      <td>7269.0</td>\n",
       "      <td>906.58</td>\n",
       "      <td>Y</td>\n",
       "      <td>371</td>\n",
       "    </tr>\n",
       "    <tr>\n",
       "      <th>1069232</th>\n",
       "      <td>13552.0</td>\n",
       "      <td>1172.25</td>\n",
       "      <td>N</td>\n",
       "      <td>83</td>\n",
       "    </tr>\n",
       "    <tr>\n",
       "      <th>1031705</th>\n",
       "      <td>4152.0</td>\n",
       "      <td>577.39</td>\n",
       "      <td>Y</td>\n",
       "      <td>675</td>\n",
       "    </tr>\n",
       "  </tbody>\n",
       "</table>\n",
       "</div>"
      ],
      "text/plain": [
       "              totmou   totrev creditcd  eqpdays\n",
       "Customer_ID                                    \n",
       "1082423       7269.0   906.58        Y      371\n",
       "1069232      13552.0  1172.25        N       83\n",
       "1031705       4152.0   577.39        Y      675"
      ]
     },
     "metadata": {},
     "output_type": "display_data"
    },
    {
     "data": {
      "text/plain": [
       "'3 últimos registros'"
      ]
     },
     "metadata": {},
     "output_type": "display_data"
    },
    {
     "data": {
      "text/html": [
       "<div>\n",
       "<style scoped>\n",
       "    .dataframe tbody tr th:only-of-type {\n",
       "        vertical-align: middle;\n",
       "    }\n",
       "\n",
       "    .dataframe tbody tr th {\n",
       "        vertical-align: top;\n",
       "    }\n",
       "\n",
       "    .dataframe thead th {\n",
       "        text-align: right;\n",
       "    }\n",
       "</style>\n",
       "<table border=\"1\" class=\"dataframe\">\n",
       "  <thead>\n",
       "    <tr style=\"text-align: right;\">\n",
       "      <th></th>\n",
       "      <th>totmou</th>\n",
       "      <th>totrev</th>\n",
       "      <th>creditcd</th>\n",
       "      <th>eqpdays</th>\n",
       "    </tr>\n",
       "    <tr>\n",
       "      <th>Customer_ID</th>\n",
       "      <th></th>\n",
       "      <th></th>\n",
       "      <th></th>\n",
       "      <th></th>\n",
       "    </tr>\n",
       "  </thead>\n",
       "  <tbody>\n",
       "    <tr>\n",
       "      <th>1096497</th>\n",
       "      <td>3690.0</td>\n",
       "      <td>294.29</td>\n",
       "      <td>Y</td>\n",
       "      <td>212</td>\n",
       "    </tr>\n",
       "    <tr>\n",
       "      <th>1087248</th>\n",
       "      <td>3333.0</td>\n",
       "      <td>233.08</td>\n",
       "      <td>Y</td>\n",
       "      <td>290</td>\n",
       "    </tr>\n",
       "    <tr>\n",
       "      <th>1099003</th>\n",
       "      <td>5025.0</td>\n",
       "      <td>1436.49</td>\n",
       "      <td>Y</td>\n",
       "      <td>1029</td>\n",
       "    </tr>\n",
       "  </tbody>\n",
       "</table>\n",
       "</div>"
      ],
      "text/plain": [
       "             totmou   totrev creditcd  eqpdays\n",
       "Customer_ID                                   \n",
       "1096497      3690.0   294.29        Y      212\n",
       "1087248      3333.0   233.08        Y      290\n",
       "1099003      5025.0  1436.49        Y     1029"
      ]
     },
     "metadata": {},
     "output_type": "display_data"
    },
    {
     "data": {
      "text/plain": [
       "'Columnas:'"
      ]
     },
     "metadata": {},
     "output_type": "display_data"
    },
    {
     "data": {
      "text/plain": [
       "Index(['totmou', 'totrev', 'creditcd', 'eqpdays'], dtype='object')"
      ]
     },
     "metadata": {},
     "output_type": "display_data"
    },
    {
     "data": {
      "text/plain": [
       "'Índices:'"
      ]
     },
     "metadata": {},
     "output_type": "display_data"
    },
    {
     "data": {
      "text/plain": [
       "Index([1082423, 1069232, 1031705, 1089806, 1076695, 1091652, 1043846, 1088967,\n",
       "       1045239, 1046584,\n",
       "       ...\n",
       "       1087145, 1002540, 1044082, 1083458, 1093976, 1027614, 1098422, 1096497,\n",
       "       1087248, 1099003],\n",
       "      dtype='int64', name='Customer_ID', length=10000)"
      ]
     },
     "metadata": {},
     "output_type": "display_data"
    },
    {
     "data": {
      "text/plain": [
       "'Tipos de registros en el DataFrame'"
      ]
     },
     "metadata": {},
     "output_type": "display_data"
    },
    {
     "data": {
      "text/plain": [
       "totmou      float64\n",
       "totrev      float64\n",
       "creditcd     object\n",
       "eqpdays       int64\n",
       "dtype: object"
      ]
     },
     "metadata": {},
     "output_type": "display_data"
    },
    {
     "data": {
      "text/plain": [
       "'Muestra aleatoria de 3 registros'"
      ]
     },
     "metadata": {},
     "output_type": "display_data"
    },
    {
     "data": {
      "text/html": [
       "<div>\n",
       "<style scoped>\n",
       "    .dataframe tbody tr th:only-of-type {\n",
       "        vertical-align: middle;\n",
       "    }\n",
       "\n",
       "    .dataframe tbody tr th {\n",
       "        vertical-align: top;\n",
       "    }\n",
       "\n",
       "    .dataframe thead th {\n",
       "        text-align: right;\n",
       "    }\n",
       "</style>\n",
       "<table border=\"1\" class=\"dataframe\">\n",
       "  <thead>\n",
       "    <tr style=\"text-align: right;\">\n",
       "      <th></th>\n",
       "      <th>totmou</th>\n",
       "      <th>totrev</th>\n",
       "      <th>creditcd</th>\n",
       "      <th>eqpdays</th>\n",
       "    </tr>\n",
       "    <tr>\n",
       "      <th>Customer_ID</th>\n",
       "      <th></th>\n",
       "      <th></th>\n",
       "      <th></th>\n",
       "      <th></th>\n",
       "    </tr>\n",
       "  </thead>\n",
       "  <tbody>\n",
       "    <tr>\n",
       "      <th>1046498</th>\n",
       "      <td>22711.0</td>\n",
       "      <td>753.29</td>\n",
       "      <td>Y</td>\n",
       "      <td>104</td>\n",
       "    </tr>\n",
       "    <tr>\n",
       "      <th>1071120</th>\n",
       "      <td>11453.0</td>\n",
       "      <td>503.53</td>\n",
       "      <td>Y</td>\n",
       "      <td>251</td>\n",
       "    </tr>\n",
       "    <tr>\n",
       "      <th>1064555</th>\n",
       "      <td>1279.0</td>\n",
       "      <td>540.81</td>\n",
       "      <td>Y</td>\n",
       "      <td>295</td>\n",
       "    </tr>\n",
       "  </tbody>\n",
       "</table>\n",
       "</div>"
      ],
      "text/plain": [
       "              totmou  totrev creditcd  eqpdays\n",
       "Customer_ID                                   \n",
       "1046498      22711.0  753.29        Y      104\n",
       "1071120      11453.0  503.53        Y      251\n",
       "1064555       1279.0  540.81        Y      295"
      ]
     },
     "metadata": {},
     "output_type": "display_data"
    },
    {
     "data": {
      "text/plain": [
       "'dimensión'"
      ]
     },
     "metadata": {},
     "output_type": "display_data"
    },
    {
     "data": {
      "text/plain": [
       "(10000, 4)"
      ]
     },
     "metadata": {},
     "output_type": "display_data"
    }
   ],
   "source": [
    "display(\"primeros 3 registros\",df.head(3))\n",
    "display(\"3 últimos registros\",df.tail(3))\n",
    "display(\"Columnas:\",df.columns)\n",
    "display(\"Índices:\",df.index)\n",
    "display(\"Tipos de registros en el DataFrame\",df.dtypes)\n",
    "display(\"Muestra aleatoria de 3 registros\",df.sample(3))\n",
    "display(\"dimensión\",df.shape)"
   ]
  },
  {
   "cell_type": "code",
   "execution_count": 92,
   "metadata": {},
   "outputs": [
    {
     "data": {
      "text/plain": [
       "Customer_ID\n",
       "1082423    Y\n",
       "1069232    N\n",
       "1031705    Y\n",
       "1089806    Y\n",
       "1076695    N\n",
       "          ..\n",
       "1027614    Y\n",
       "1098422    Y\n",
       "1096497    Y\n",
       "1087248    Y\n",
       "1099003    Y\n",
       "Name: creditcd, Length: 10000, dtype: object"
      ]
     },
     "execution_count": 92,
     "metadata": {},
     "output_type": "execute_result"
    }
   ],
   "source": [
    "df.creditcd"
   ]
  },
  {
   "cell_type": "markdown",
   "metadata": {},
   "source": [
    "# Manejo de datos duplicados"
   ]
  },
  {
   "cell_type": "code",
   "execution_count": 101,
   "metadata": {},
   "outputs": [
    {
     "data": {
      "text/html": [
       "<div>\n",
       "<style scoped>\n",
       "    .dataframe tbody tr th:only-of-type {\n",
       "        vertical-align: middle;\n",
       "    }\n",
       "\n",
       "    .dataframe tbody tr th {\n",
       "        vertical-align: top;\n",
       "    }\n",
       "\n",
       "    .dataframe thead th {\n",
       "        text-align: right;\n",
       "    }\n",
       "</style>\n",
       "<table border=\"1\" class=\"dataframe\">\n",
       "  <thead>\n",
       "    <tr style=\"text-align: right;\">\n",
       "      <th></th>\n",
       "      <th>totmou</th>\n",
       "      <th>totrev</th>\n",
       "      <th>creditcd</th>\n",
       "      <th>eqpdays</th>\n",
       "    </tr>\n",
       "    <tr>\n",
       "      <th>Customer_ID</th>\n",
       "      <th></th>\n",
       "      <th></th>\n",
       "      <th></th>\n",
       "      <th></th>\n",
       "    </tr>\n",
       "  </thead>\n",
       "  <tbody>\n",
       "    <tr>\n",
       "      <th>1082423</th>\n",
       "      <td>7269.0</td>\n",
       "      <td>906.58</td>\n",
       "      <td>Y</td>\n",
       "      <td>371</td>\n",
       "    </tr>\n",
       "    <tr>\n",
       "      <th>1069232</th>\n",
       "      <td>13552.0</td>\n",
       "      <td>1172.25</td>\n",
       "      <td>N</td>\n",
       "      <td>83</td>\n",
       "    </tr>\n",
       "    <tr>\n",
       "      <th>1031705</th>\n",
       "      <td>4152.0</td>\n",
       "      <td>577.39</td>\n",
       "      <td>Y</td>\n",
       "      <td>675</td>\n",
       "    </tr>\n",
       "    <tr>\n",
       "      <th>1089806</th>\n",
       "      <td>1863.0</td>\n",
       "      <td>294.26</td>\n",
       "      <td>Y</td>\n",
       "      <td>218</td>\n",
       "    </tr>\n",
       "    <tr>\n",
       "      <th>1076695</th>\n",
       "      <td>4155.0</td>\n",
       "      <td>433.16</td>\n",
       "      <td>N</td>\n",
       "      <td>222</td>\n",
       "    </tr>\n",
       "    <tr>\n",
       "      <th>...</th>\n",
       "      <td>...</td>\n",
       "      <td>...</td>\n",
       "      <td>...</td>\n",
       "      <td>...</td>\n",
       "    </tr>\n",
       "    <tr>\n",
       "      <th>1027614</th>\n",
       "      <td>2570.0</td>\n",
       "      <td>484.31</td>\n",
       "      <td>Y</td>\n",
       "      <td>611</td>\n",
       "    </tr>\n",
       "    <tr>\n",
       "      <th>1098422</th>\n",
       "      <td>2105.0</td>\n",
       "      <td>583.36</td>\n",
       "      <td>Y</td>\n",
       "      <td>1243</td>\n",
       "    </tr>\n",
       "    <tr>\n",
       "      <th>1096497</th>\n",
       "      <td>3690.0</td>\n",
       "      <td>294.29</td>\n",
       "      <td>Y</td>\n",
       "      <td>212</td>\n",
       "    </tr>\n",
       "    <tr>\n",
       "      <th>1087248</th>\n",
       "      <td>3333.0</td>\n",
       "      <td>233.08</td>\n",
       "      <td>Y</td>\n",
       "      <td>290</td>\n",
       "    </tr>\n",
       "    <tr>\n",
       "      <th>1099003</th>\n",
       "      <td>5025.0</td>\n",
       "      <td>1436.49</td>\n",
       "      <td>Y</td>\n",
       "      <td>1029</td>\n",
       "    </tr>\n",
       "  </tbody>\n",
       "</table>\n",
       "<p>10000 rows × 4 columns</p>\n",
       "</div>"
      ],
      "text/plain": [
       "              totmou   totrev creditcd  eqpdays\n",
       "Customer_ID                                    \n",
       "1082423       7269.0   906.58        Y      371\n",
       "1069232      13552.0  1172.25        N       83\n",
       "1031705       4152.0   577.39        Y      675\n",
       "1089806       1863.0   294.26        Y      218\n",
       "1076695       4155.0   433.16        N      222\n",
       "...              ...      ...      ...      ...\n",
       "1027614       2570.0   484.31        Y      611\n",
       "1098422       2105.0   583.36        Y     1243\n",
       "1096497       3690.0   294.29        Y      212\n",
       "1087248       3333.0   233.08        Y      290\n",
       "1099003       5025.0  1436.49        Y     1029\n",
       "\n",
       "[10000 rows x 4 columns]"
      ]
     },
     "execution_count": 101,
     "metadata": {},
     "output_type": "execute_result"
    }
   ],
   "source": [
    "#df.duplicated({columns})\n",
    "df = df.drop_duplicates()\n",
    "df"
   ]
  },
  {
   "cell_type": "markdown",
   "metadata": {},
   "source": [
    "## Porcentajes de nulos por columnas"
   ]
  },
  {
   "cell_type": "code",
   "execution_count": 150,
   "metadata": {},
   "outputs": [
    {
     "data": {
      "text/html": [
       "<div>\n",
       "<style scoped>\n",
       "    .dataframe tbody tr th:only-of-type {\n",
       "        vertical-align: middle;\n",
       "    }\n",
       "\n",
       "    .dataframe tbody tr th {\n",
       "        vertical-align: top;\n",
       "    }\n",
       "\n",
       "    .dataframe thead th {\n",
       "        text-align: right;\n",
       "    }\n",
       "</style>\n",
       "<table border=\"1\" class=\"dataframe\">\n",
       "  <thead>\n",
       "    <tr style=\"text-align: right;\">\n",
       "      <th></th>\n",
       "      <th>Cantidad de Nulos</th>\n",
       "      <th>Porcentaje de Nulos (%)</th>\n",
       "    </tr>\n",
       "  </thead>\n",
       "  <tbody>\n",
       "    <tr>\n",
       "      <th>creditcd</th>\n",
       "      <td>152</td>\n",
       "      <td>1.52</td>\n",
       "    </tr>\n",
       "  </tbody>\n",
       "</table>\n",
       "</div>"
      ],
      "text/plain": [
       "          Cantidad de Nulos  Porcentaje de Nulos (%)\n",
       "creditcd                152                     1.52"
      ]
     },
     "execution_count": 150,
     "metadata": {},
     "output_type": "execute_result"
    }
   ],
   "source": [
    "nulos_por_columna = df.isnull().sum()\n",
    "columnas_con_nulos = nulos_por_columna[nulos_por_columna > 0]\n",
    "\n",
    "# calculo de porcentaje de los valores nulos por columna\n",
    "porcentaje_nulos = (columnas_con_nulos / len(df)) * 100\n",
    "porcentaje_nulos = porcentaje_nulos.round(2)\n",
    "columnas_con_nulos = pd.DataFrame({\n",
    "    'Cantidad de Nulos': columnas_con_nulos,\n",
    "    'Porcentaje de Nulos (%)': porcentaje_nulos\n",
    "})\n",
    "columnas_con_nulos"
   ]
  },
  {
   "cell_type": "markdown",
   "metadata": {},
   "source": [
    "## Manejo de datos perdidos o esperados"
   ]
  },
  {
   "cell_type": "code",
   "execution_count": 158,
   "metadata": {},
   "outputs": [
    {
     "data": {
      "text/plain": [
       "totmou      False\n",
       "totrev      False\n",
       "creditcd     True\n",
       "eqpdays     False\n",
       "dtype: bool"
      ]
     },
     "execution_count": 158,
     "metadata": {},
     "output_type": "execute_result"
    }
   ],
   "source": [
    "df.isnull().any(axis=0) # Indicador de valores nulos en una columna"
   ]
  },
  {
   "cell_type": "code",
   "execution_count": 112,
   "metadata": {},
   "outputs": [
    {
     "data": {
      "text/plain": [
       "Customer_ID\n",
       "1082423    False\n",
       "1069232    False\n",
       "1031705    False\n",
       "1089806    False\n",
       "1076695    False\n",
       "           ...  \n",
       "1027614    False\n",
       "1098422    False\n",
       "1096497    False\n",
       "1087248    False\n",
       "1099003    False\n",
       "Length: 10000, dtype: bool"
      ]
     },
     "execution_count": 112,
     "metadata": {},
     "output_type": "execute_result"
    }
   ],
   "source": [
    "perd=df.isnull().any(axis=1) # Para saber si hay NaN en los datos de cada variable:\n",
    "perd"
   ]
  },
  {
   "cell_type": "code",
   "execution_count": 118,
   "metadata": {},
   "outputs": [
    {
     "name": "stdout",
     "output_type": "stream",
     "text": [
      "              totmou   totrev creditcd  eqpdays\n",
      "Customer_ID                                    \n",
      "1072218       5684.0   857.65      NaN      244\n",
      "1066597        925.0   373.12      NaN      344\n",
      "1023352      14466.0  2243.76      NaN      387\n",
      "1045521       2504.0   756.79      NaN      495\n",
      "1001813      76260.0  5526.11      NaN      361\n",
      "...              ...      ...      ...      ...\n",
      "1050795      15591.0  1330.71      NaN      447\n",
      "1096985       3011.0   522.14      NaN       74\n",
      "1025203        853.0   650.34      NaN      780\n",
      "1099258      33660.0  4247.85      NaN      206\n",
      "1026149       1955.0   606.08      NaN      770\n",
      "\n",
      "[152 rows x 4 columns]\n"
     ]
    }
   ],
   "source": [
    "# Filtrar y mostrar solo las filas donde 'perd' es True\n",
    "df_con_nulos = df[perd]\n",
    "print(df_con_nulos)\n"
   ]
  },
  {
   "cell_type": "code",
   "execution_count": 120,
   "metadata": {},
   "outputs": [
    {
     "data": {
      "text/plain": [
       "range(0, 10000)"
      ]
     },
     "execution_count": 120,
     "metadata": {},
     "output_type": "execute_result"
    }
   ],
   "source": [
    "range(len(df)) # Genera secuencia de indices que se pueden usar para iterar en el edataframe"
   ]
  },
  {
   "cell_type": "code",
   "execution_count": 122,
   "metadata": {},
   "outputs": [
    {
     "name": "stdout",
     "output_type": "stream",
     "text": [
      "1082423\n",
      "1069232\n",
      "1031705\n",
      "1089806\n",
      "1076695\n",
      "1091652\n",
      "1043846\n",
      "1088967\n",
      "1045239\n",
      "1046584\n"
     ]
    }
   ],
   "source": [
    "for i in df.index[:10]:  # primeros 10 indices del dataframe\n",
    "    print(i)"
   ]
  },
  {
   "cell_type": "code",
   "execution_count": 124,
   "metadata": {},
   "outputs": [
    {
     "data": {
      "text/html": [
       "<div>\n",
       "<style scoped>\n",
       "    .dataframe tbody tr th:only-of-type {\n",
       "        vertical-align: middle;\n",
       "    }\n",
       "\n",
       "    .dataframe tbody tr th {\n",
       "        vertical-align: top;\n",
       "    }\n",
       "\n",
       "    .dataframe thead th {\n",
       "        text-align: right;\n",
       "    }\n",
       "</style>\n",
       "<table border=\"1\" class=\"dataframe\">\n",
       "  <thead>\n",
       "    <tr style=\"text-align: right;\">\n",
       "      <th></th>\n",
       "      <th>totmou</th>\n",
       "      <th>totrev</th>\n",
       "      <th>creditcd</th>\n",
       "      <th>eqpdays</th>\n",
       "    </tr>\n",
       "    <tr>\n",
       "      <th>Customer_ID</th>\n",
       "      <th></th>\n",
       "      <th></th>\n",
       "      <th></th>\n",
       "      <th></th>\n",
       "    </tr>\n",
       "  </thead>\n",
       "  <tbody>\n",
       "    <tr>\n",
       "      <th>1072218</th>\n",
       "      <td>5684.0</td>\n",
       "      <td>857.65</td>\n",
       "      <td>NaN</td>\n",
       "      <td>244</td>\n",
       "    </tr>\n",
       "    <tr>\n",
       "      <th>1066597</th>\n",
       "      <td>925.0</td>\n",
       "      <td>373.12</td>\n",
       "      <td>NaN</td>\n",
       "      <td>344</td>\n",
       "    </tr>\n",
       "    <tr>\n",
       "      <th>1023352</th>\n",
       "      <td>14466.0</td>\n",
       "      <td>2243.76</td>\n",
       "      <td>NaN</td>\n",
       "      <td>387</td>\n",
       "    </tr>\n",
       "    <tr>\n",
       "      <th>1045521</th>\n",
       "      <td>2504.0</td>\n",
       "      <td>756.79</td>\n",
       "      <td>NaN</td>\n",
       "      <td>495</td>\n",
       "    </tr>\n",
       "    <tr>\n",
       "      <th>1001813</th>\n",
       "      <td>76260.0</td>\n",
       "      <td>5526.11</td>\n",
       "      <td>NaN</td>\n",
       "      <td>361</td>\n",
       "    </tr>\n",
       "    <tr>\n",
       "      <th>...</th>\n",
       "      <td>...</td>\n",
       "      <td>...</td>\n",
       "      <td>...</td>\n",
       "      <td>...</td>\n",
       "    </tr>\n",
       "    <tr>\n",
       "      <th>1050795</th>\n",
       "      <td>15591.0</td>\n",
       "      <td>1330.71</td>\n",
       "      <td>NaN</td>\n",
       "      <td>447</td>\n",
       "    </tr>\n",
       "    <tr>\n",
       "      <th>1096985</th>\n",
       "      <td>3011.0</td>\n",
       "      <td>522.14</td>\n",
       "      <td>NaN</td>\n",
       "      <td>74</td>\n",
       "    </tr>\n",
       "    <tr>\n",
       "      <th>1025203</th>\n",
       "      <td>853.0</td>\n",
       "      <td>650.34</td>\n",
       "      <td>NaN</td>\n",
       "      <td>780</td>\n",
       "    </tr>\n",
       "    <tr>\n",
       "      <th>1099258</th>\n",
       "      <td>33660.0</td>\n",
       "      <td>4247.85</td>\n",
       "      <td>NaN</td>\n",
       "      <td>206</td>\n",
       "    </tr>\n",
       "    <tr>\n",
       "      <th>1026149</th>\n",
       "      <td>1955.0</td>\n",
       "      <td>606.08</td>\n",
       "      <td>NaN</td>\n",
       "      <td>770</td>\n",
       "    </tr>\n",
       "  </tbody>\n",
       "</table>\n",
       "<p>152 rows × 4 columns</p>\n",
       "</div>"
      ],
      "text/plain": [
       "              totmou   totrev creditcd  eqpdays\n",
       "Customer_ID                                    \n",
       "1072218       5684.0   857.65      NaN      244\n",
       "1066597        925.0   373.12      NaN      344\n",
       "1023352      14466.0  2243.76      NaN      387\n",
       "1045521       2504.0   756.79      NaN      495\n",
       "1001813      76260.0  5526.11      NaN      361\n",
       "...              ...      ...      ...      ...\n",
       "1050795      15591.0  1330.71      NaN      447\n",
       "1096985       3011.0   522.14      NaN       74\n",
       "1025203        853.0   650.34      NaN      780\n",
       "1099258      33660.0  4247.85      NaN      206\n",
       "1026149       1955.0   606.08      NaN      770\n",
       "\n",
       "[152 rows x 4 columns]"
      ]
     },
     "execution_count": 124,
     "metadata": {},
     "output_type": "execute_result"
    }
   ],
   "source": [
    "df[perd] # devolverá todas las filas que tienen al menos un valor nulo"
   ]
  },
  {
   "cell_type": "code",
   "execution_count": 126,
   "metadata": {},
   "outputs": [
    {
     "data": {
      "text/html": [
       "<div>\n",
       "<style scoped>\n",
       "    .dataframe tbody tr th:only-of-type {\n",
       "        vertical-align: middle;\n",
       "    }\n",
       "\n",
       "    .dataframe tbody tr th {\n",
       "        vertical-align: top;\n",
       "    }\n",
       "\n",
       "    .dataframe thead th {\n",
       "        text-align: right;\n",
       "    }\n",
       "</style>\n",
       "<table border=\"1\" class=\"dataframe\">\n",
       "  <thead>\n",
       "    <tr style=\"text-align: right;\">\n",
       "      <th></th>\n",
       "      <th>totmou</th>\n",
       "      <th>totrev</th>\n",
       "      <th>creditcd</th>\n",
       "      <th>eqpdays</th>\n",
       "    </tr>\n",
       "    <tr>\n",
       "      <th>Customer_ID</th>\n",
       "      <th></th>\n",
       "      <th></th>\n",
       "      <th></th>\n",
       "      <th></th>\n",
       "    </tr>\n",
       "  </thead>\n",
       "  <tbody>\n",
       "    <tr>\n",
       "      <th>1072218</th>\n",
       "      <td>5684.0</td>\n",
       "      <td>857.65</td>\n",
       "      <td>NaN</td>\n",
       "      <td>244</td>\n",
       "    </tr>\n",
       "    <tr>\n",
       "      <th>1066597</th>\n",
       "      <td>925.0</td>\n",
       "      <td>373.12</td>\n",
       "      <td>NaN</td>\n",
       "      <td>344</td>\n",
       "    </tr>\n",
       "    <tr>\n",
       "      <th>1023352</th>\n",
       "      <td>14466.0</td>\n",
       "      <td>2243.76</td>\n",
       "      <td>NaN</td>\n",
       "      <td>387</td>\n",
       "    </tr>\n",
       "    <tr>\n",
       "      <th>1045521</th>\n",
       "      <td>2504.0</td>\n",
       "      <td>756.79</td>\n",
       "      <td>NaN</td>\n",
       "      <td>495</td>\n",
       "    </tr>\n",
       "    <tr>\n",
       "      <th>1001813</th>\n",
       "      <td>76260.0</td>\n",
       "      <td>5526.11</td>\n",
       "      <td>NaN</td>\n",
       "      <td>361</td>\n",
       "    </tr>\n",
       "    <tr>\n",
       "      <th>...</th>\n",
       "      <td>...</td>\n",
       "      <td>...</td>\n",
       "      <td>...</td>\n",
       "      <td>...</td>\n",
       "    </tr>\n",
       "    <tr>\n",
       "      <th>1050795</th>\n",
       "      <td>15591.0</td>\n",
       "      <td>1330.71</td>\n",
       "      <td>NaN</td>\n",
       "      <td>447</td>\n",
       "    </tr>\n",
       "    <tr>\n",
       "      <th>1096985</th>\n",
       "      <td>3011.0</td>\n",
       "      <td>522.14</td>\n",
       "      <td>NaN</td>\n",
       "      <td>74</td>\n",
       "    </tr>\n",
       "    <tr>\n",
       "      <th>1025203</th>\n",
       "      <td>853.0</td>\n",
       "      <td>650.34</td>\n",
       "      <td>NaN</td>\n",
       "      <td>780</td>\n",
       "    </tr>\n",
       "    <tr>\n",
       "      <th>1099258</th>\n",
       "      <td>33660.0</td>\n",
       "      <td>4247.85</td>\n",
       "      <td>NaN</td>\n",
       "      <td>206</td>\n",
       "    </tr>\n",
       "    <tr>\n",
       "      <th>1026149</th>\n",
       "      <td>1955.0</td>\n",
       "      <td>606.08</td>\n",
       "      <td>NaN</td>\n",
       "      <td>770</td>\n",
       "    </tr>\n",
       "  </tbody>\n",
       "</table>\n",
       "<p>152 rows × 4 columns</p>\n",
       "</div>"
      ],
      "text/plain": [
       "              totmou   totrev creditcd  eqpdays\n",
       "Customer_ID                                    \n",
       "1072218       5684.0   857.65      NaN      244\n",
       "1066597        925.0   373.12      NaN      344\n",
       "1023352      14466.0  2243.76      NaN      387\n",
       "1045521       2504.0   756.79      NaN      495\n",
       "1001813      76260.0  5526.11      NaN      361\n",
       "...              ...      ...      ...      ...\n",
       "1050795      15591.0  1330.71      NaN      447\n",
       "1096985       3011.0   522.14      NaN       74\n",
       "1025203        853.0   650.34      NaN      780\n",
       "1099258      33660.0  4247.85      NaN      206\n",
       "1026149       1955.0   606.08      NaN      770\n",
       "\n",
       "[152 rows x 4 columns]"
      ]
     },
     "execution_count": 126,
     "metadata": {},
     "output_type": "execute_result"
    }
   ],
   "source": [
    "perdidos = df[df.isnull().any(axis=1)] # Hace lo mismo que df[perd] # devolverá todas las filas que tienen al menos un valor nulo\n",
    "perdidos"
   ]
  },
  {
   "cell_type": "code",
   "execution_count": 128,
   "metadata": {},
   "outputs": [
    {
     "data": {
      "text/plain": [
       "creditcd\n",
       "Y      6796\n",
       "N      3052\n",
       "NaN     152\n",
       "Name: count, dtype: int64"
      ]
     },
     "execution_count": 128,
     "metadata": {},
     "output_type": "execute_result"
    }
   ],
   "source": [
    "df['creditcd'].value_counts(dropna=False) # frecuencia de cada valor en una columna,"
   ]
  },
  {
   "cell_type": "code",
   "execution_count": 136,
   "metadata": {},
   "outputs": [
    {
     "name": "stdout",
     "output_type": "stream",
     "text": [
      "La moda en creditcd es: Y\n"
     ]
    }
   ],
   "source": [
    "moda = df['creditcd'].mode()[0]\n",
    "print(f'La moda en creditcd es: {moda}')"
   ]
  },
  {
   "cell_type": "code",
   "execution_count": 140,
   "metadata": {},
   "outputs": [],
   "source": [
    "df['creditcd'] = df['creditcd'].fillna(\"Y\")# Reemplaza todos los valores faltantes (NaN) en la columna creditcd con el valor \"Y\""
   ]
  },
  {
   "cell_type": "code",
   "execution_count": null,
   "metadata": {},
   "outputs": [],
   "source": [
    "#promedio = df['totrev'].mean()\n",
    "#df['totrev']=df['totrev'].replace(np.nan, promedio)"
   ]
  },
  {
   "cell_type": "code",
   "execution_count": 142,
   "metadata": {},
   "outputs": [
    {
     "name": "stdout",
     "output_type": "stream",
     "text": [
      "<class 'pandas.core.frame.DataFrame'>\n",
      "Index: 10000 entries, 1082423 to 1099003\n",
      "Data columns (total 4 columns):\n",
      " #   Column    Non-Null Count  Dtype  \n",
      "---  ------    --------------  -----  \n",
      " 0   totmou    10000 non-null  float64\n",
      " 1   totrev    10000 non-null  float64\n",
      " 2   creditcd  10000 non-null  object \n",
      " 3   eqpdays   10000 non-null  int64  \n",
      "dtypes: float64(2), int64(1), object(1)\n",
      "memory usage: 390.6+ KB\n"
     ]
    }
   ],
   "source": [
    "df.info()"
   ]
  },
  {
   "cell_type": "code",
   "execution_count": 144,
   "metadata": {},
   "outputs": [
    {
     "data": {
      "text/plain": [
       "totmou      False\n",
       "totrev      False\n",
       "creditcd    False\n",
       "eqpdays     False\n",
       "dtype: bool"
      ]
     },
     "execution_count": 144,
     "metadata": {},
     "output_type": "execute_result"
    }
   ],
   "source": [
    "# Se vuelve a verificar si existen datos nulos\n",
    "df.isnull().any(axis=0)"
   ]
  }
 ],
 "metadata": {
  "kernelspec": {
   "display_name": "ml2024",
   "language": "python",
   "name": "ml2024"
  },
  "language_info": {
   "codemirror_mode": {
    "name": "ipython",
    "version": 3
   },
   "file_extension": ".py",
   "mimetype": "text/x-python",
   "name": "python",
   "nbconvert_exporter": "python",
   "pygments_lexer": "ipython3",
   "version": "3.12.7"
  }
 },
 "nbformat": 4,
 "nbformat_minor": 4
}
