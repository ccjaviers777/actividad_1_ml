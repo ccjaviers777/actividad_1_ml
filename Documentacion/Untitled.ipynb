{
 "cells": [
  {
   "cell_type": "markdown",
   "id": "da8387e4-331b-4784-88c6-0fb3456f9d1f",
   "metadata": {},
   "source": [
    "prueba"
   ]
  }
 ],
 "metadata": {
  "kernelspec": {
   "display_name": "ml2024",
   "language": "python",
   "name": "ml2024"
  },
  "language_info": {
   "codemirror_mode": {
    "name": "ipython",
    "version": 3
   },
   "file_extension": ".py",
   "mimetype": "text/x-python",
   "name": "python",
   "nbconvert_exporter": "python",
   "pygments_lexer": "ipython3",
   "version": "3.12.7"
  }
 },
 "nbformat": 4,
 "nbformat_minor": 5
}
